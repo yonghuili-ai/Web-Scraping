{
 "cells": [
  {
   "cell_type": "markdown",
   "metadata": {},
   "source": [
    "# Scraping data for over 2000 movies\n",
    "It's essential to identify the goal of our scraping right from the beginning. Writing a scraping script can take a lot of time, especially if we want to scrape more than one web page. We want to avoid spending hours writing a script which scrapes data we won't actually need.\n"
   ]
  },
  {
   "cell_type": "markdown",
   "metadata": {},
   "source": [
    "## Working out which pages to scrape\n",
    "Once we've established our goal, we then need to identify an efficient set of pages to scrape.\n",
    "\n",
    "We want to find **a combination of pages** that requires a relatively small number of requests. A request is what happens whenever we access a web page. We 'request' the content of a page from the server. The more requests we make, the longer our script will need to run, and the greater the strain on the server.\n",
    "\n",
    "One way to get all the data we need is to ** compile a list of movie names,** and use it to access the web page of each movie on both IMDB and Metacritic websites.\n",
    "\n",
    "Since we want to get over 2000 ratings from both IMDB and Metacritic, we'll have to make at least 4000 requests. If we make one request per second, our script will need a little over an hour to make 4000 requests. Because of this, it's worth trying to identify more efficient ways of obtaining our data.\n",
    "\n",
    "If we explore the IMDB website, we can discover a way to halve the number of requests. Metacritic scores are shown on the IMDB movie page, so we can scrape both ratings with a single request.\n",
    "\n",
    "If we investigate the IMDB site further, we can discover the page shown below. It contains all the data we need for 50 movies. Given our aim, this means we'll only have to do about 40 requests, which is 100 times less than our first option. Let's explore this last option further."
   ]
  },
  {
   "cell_type": "markdown",
   "metadata": {},
   "source": [
    "## Identifying the URL structure\n",
    "In the following code cell we will:\n",
    "\n",
    "- Import the get() function from the requests module.\n",
    "- Assign the address of the web page to a variable named url.\n",
    "- Request the server the content of the web page by using get(), and store the server’s response in the variable response.\n",
    "- Print a small part of response's content by accessing its .text attribute (response is now a Response object)."
   ]
  },
  {
   "cell_type": "code",
   "execution_count": 5,
   "metadata": {
    "collapsed": true
   },
   "outputs": [],
   "source": [
    "import requests\n",
    "from requests import get"
   ]
  },
  {
   "cell_type": "code",
   "execution_count": 2,
   "metadata": {
    "collapsed": true
   },
   "outputs": [],
   "source": [
    "# page = requests.get(\"https://www.imdb.com/search/title?release_date=2017-01-01,2017-12-31&sort=num_votes,desc&page=1&ref_=adv_prv\")"
   ]
  },
  {
   "cell_type": "code",
   "execution_count": 3,
   "metadata": {},
   "outputs": [
    {
     "data": {
      "text/plain": [
       "<Response [200]>"
      ]
     },
     "execution_count": 3,
     "metadata": {},
     "output_type": "execute_result"
    }
   ],
   "source": [
    "# page"
   ]
  },
  {
   "cell_type": "code",
   "execution_count": 6,
   "metadata": {},
   "outputs": [],
   "source": [
    "# page.content\n",
    "url = \"https://www.imdb.com/search/title?release_date=2017-01-01,2017-12-31&sort=num_votes,desc&page=1&ref_=adv_prv\""
   ]
  },
  {
   "cell_type": "code",
   "execution_count": 7,
   "metadata": {},
   "outputs": [
    {
     "name": "stdout",
     "output_type": "stream",
     "text": [
      "\n",
      "\n",
      "\n",
      "<!DOCTYPE html>\n",
      "<html\n",
      "    xmlns:og=\"http://ogp.me/ns#\"\n",
      "    xmlns:fb=\"http://www.facebook.com/2008/fbml\">\n",
      "    <head>\n",
      "         \n",
      "        <meta charset=\"utf-8\">\n",
      "        <meta http-equiv=\"X-UA-Compatible\" content=\"IE=edge\">\n",
      "\n",
      "    <meta name=\"apple-itunes-app\" content=\"app-id=342792525, app-argument=imdb:///?src=mdot\">\n",
      "\n",
      "\n",
      "\n",
      "        <script type=\"text/javascript\">var IMDbTimer={starttime: new Date().getTime(),pt:'java'};</script>\n",
      "\n",
      "<script>\n",
      "    if (typeof uet == 'function') {\n",
      "      uet(\"bb\", \"LoadTitle\"\n"
     ]
    }
   ],
   "source": [
    "response = get(url)\n",
    "print(response.text[:500])"
   ]
  },
  {
   "cell_type": "markdown",
   "metadata": {},
   "source": [
    "## Using BeautifulSoup to parse the HTML content\n",
    "In the following code cell we will:\n",
    "\n",
    "- Import the BeautifulSoup class creator from the package bs4.\n",
    "- Parse response.text by creating a BeautifulSoup object, and assign this object to html_soup. The 'html.parser' argument indicates that we want to do the parsing using Python’s built-in HTML parser."
   ]
  },
  {
   "cell_type": "code",
   "execution_count": 10,
   "metadata": {
    "collapsed": true
   },
   "outputs": [],
   "source": [
    "from bs4 import BeautifulSoup\n",
    "html_soup = BeautifulSoup(response.content, 'html.parser')"
   ]
  },
  {
   "cell_type": "markdown",
   "metadata": {},
   "source": [
    "Before extracting the 50 div containers, we need to figure out what distinguishes them from other div elements on that page. Often, the distinctive mark resides in the **class attribute**. If you inspect the HTML lines of the containers of interest, you'll notice that the class attribute has two values: lister-item and mode-advanced. This combination is unique to these div containers. We can see that's true by doing a quick search (Ctrl + F). We have 50 such containers, so we expect to see only 50 matches:\n",
    "\n"
   ]
  },
  {
   "cell_type": "code",
   "execution_count": 11,
   "metadata": {
    "collapsed": true
   },
   "outputs": [],
   "source": [
    "movie_containers = html_soup.find_all('div',class_=\"lister-item mode-advanced\")"
   ]
  },
  {
   "cell_type": "code",
   "execution_count": 12,
   "metadata": {},
   "outputs": [
    {
     "name": "stdout",
     "output_type": "stream",
     "text": [
      "<class 'bs4.element.ResultSet'>\n",
      "50\n"
     ]
    }
   ],
   "source": [
    "print(type(movie_containers))\n",
    "print(len(movie_containers))"
   ]
  },
  {
   "cell_type": "markdown",
   "metadata": {},
   "source": [
    "Now we'll select only the first container, and extract, by turn, each item of interest:\n",
    "\n",
    "- The name of the movie.\n",
    "- The year of release.\n",
    "- The IMDB rating.\n",
    "- The Metascore.\n",
    "- The number of votes."
   ]
  },
  {
   "cell_type": "code",
   "execution_count": 14,
   "metadata": {},
   "outputs": [],
   "source": [
    "# movie_containers"
   ]
  },
  {
   "cell_type": "markdown",
   "metadata": {},
   "source": [
    "### Extracting the data for a single movie"
   ]
  },
  {
   "cell_type": "code",
   "execution_count": 16,
   "metadata": {},
   "outputs": [
    {
     "data": {
      "text/plain": [
       "<div class=\"lister-top-right\">\n",
       "<div class=\"ribbonize\" data-caller=\"filmosearch\" data-tconst=\"tt3315342\"></div>\n",
       "</div>"
      ]
     },
     "execution_count": 16,
     "metadata": {},
     "output_type": "execute_result"
    }
   ],
   "source": [
    "first_movie = movie_containers[0]\n",
    "# first_movie\n",
    "first_movie.div"
   ]
  },
  {
   "cell_type": "code",
   "execution_count": 17,
   "metadata": {},
   "outputs": [
    {
     "data": {
      "text/plain": [
       "<a href=\"/title/tt3315342/?ref_=adv_li_i\"> <img alt=\"Logan\" class=\"loadlate\" data-tconst=\"tt3315342\" height=\"98\" loadlate=\"https://m.media-amazon.com/images/M/MV5BYzc5MTU4N2EtYTkyMi00NjdhLTg3NWEtMTY4OTEyMzJhZTAzXkEyXkFqcGdeQXVyNjc1NTYyMjg@._V1_UX67_CR0,0,67,98_AL_.jpg\" src=\"https://m.media-amazon.com/images/G/01/imdb/images/nopicture/large/film-184890147._CB499613450_.png\" width=\"67\"/>\n",
       "</a>"
      ]
     },
     "execution_count": 17,
     "metadata": {},
     "output_type": "execute_result"
    }
   ],
   "source": [
    "first_movie.a"
   ]
  },
  {
   "cell_type": "code",
   "execution_count": 18,
   "metadata": {},
   "outputs": [
    {
     "data": {
      "text/plain": [
       "<h3 class=\"lister-item-header\">\n",
       "<span class=\"lister-item-index unbold text-primary\">1.</span>\n",
       "<a href=\"/title/tt3315342/?ref_=adv_li_tt\">Logan</a>\n",
       "<span class=\"lister-item-year text-muted unbold\">(2017)</span>\n",
       "</h3>"
      ]
     },
     "execution_count": 18,
     "metadata": {},
     "output_type": "execute_result"
    }
   ],
   "source": [
    "first_movie.h3"
   ]
  },
  {
   "cell_type": "code",
   "execution_count": 20,
   "metadata": {},
   "outputs": [
    {
     "data": {
      "text/plain": [
       "<a href=\"/title/tt3315342/?ref_=adv_li_tt\">Logan</a>"
      ]
     },
     "execution_count": 20,
     "metadata": {},
     "output_type": "execute_result"
    }
   ],
   "source": [
    "first_movie.h3.a"
   ]
  },
  {
   "cell_type": "code",
   "execution_count": 21,
   "metadata": {},
   "outputs": [
    {
     "data": {
      "text/plain": [
       "'Logan'"
      ]
     },
     "execution_count": 21,
     "metadata": {},
     "output_type": "execute_result"
    }
   ],
   "source": [
    "# now it is all a matter of accessing the text from \n",
    "# within that <a> tag:\n",
    "first_name = first_movie.h3.a.text\n",
    "first_name"
   ]
  },
  {
   "cell_type": "markdown",
   "metadata": {},
   "source": [
    "## The year of the movie's release"
   ]
  },
  {
   "cell_type": "code",
   "execution_count": 33,
   "metadata": {},
   "outputs": [
    {
     "data": {
      "text/plain": [
       "<span class=\"lister-item-index unbold text-primary\">1.</span>"
      ]
     },
     "execution_count": 33,
     "metadata": {},
     "output_type": "execute_result"
    }
   ],
   "source": [
    "# This data is stored within the <span> tag\n",
    "first_movie.span\n",
    "# it returns the wrong line because Dot notation \n",
    "# will only access the first span element."
   ]
  },
  {
   "cell_type": "raw",
   "metadata": {},
   "source": [
    "The distinguishing mark consists of the values lister-item-year text-muted unbold assigned to the class attribute. So we look for the first <span> with these values within the <h3> tag:"
   ]
  },
  {
   "cell_type": "code",
   "execution_count": 29,
   "metadata": {
    "collapsed": true
   },
   "outputs": [],
   "source": [
    "first_year = first_movie.h3.find('span',class_=\"lister-item-year text-muted unbold\")"
   ]
  },
  {
   "cell_type": "code",
   "execution_count": 30,
   "metadata": {},
   "outputs": [
    {
     "data": {
      "text/plain": [
       "<span class=\"lister-item-year text-muted unbold\">(2017)</span>"
      ]
     },
     "execution_count": 30,
     "metadata": {},
     "output_type": "execute_result"
    }
   ],
   "source": [
    "first_year"
   ]
  },
  {
   "cell_type": "code",
   "execution_count": 32,
   "metadata": {},
   "outputs": [
    {
     "data": {
      "text/plain": [
       "'(2017)'"
      ]
     },
     "execution_count": 32,
     "metadata": {},
     "output_type": "execute_result"
    }
   ],
   "source": [
    "first_year = first_year.text\n",
    "first_year"
   ]
  },
  {
   "cell_type": "markdown",
   "metadata": {},
   "source": [
    "## IMDB rating"
   ]
  },
  {
   "cell_type": "raw",
   "metadata": {},
   "source": [
    "There are a couple of ways to do that, but we'll first try the easiest one. If you inspect the IMDB rating using DevTools, you'll notice that the rating is contained within a <strong> tag."
   ]
  },
  {
   "cell_type": "code",
   "execution_count": 34,
   "metadata": {},
   "outputs": [
    {
     "data": {
      "text/plain": [
       "<strong>8.1</strong>"
      ]
     },
     "execution_count": 34,
     "metadata": {},
     "output_type": "execute_result"
    }
   ],
   "source": [
    "first_movie.strong"
   ]
  },
  {
   "cell_type": "code",
   "execution_count": 35,
   "metadata": {},
   "outputs": [
    {
     "data": {
      "text/plain": [
       "8.1"
      ]
     },
     "execution_count": 35,
     "metadata": {},
     "output_type": "execute_result"
    }
   ],
   "source": [
    "# Great! We'll access the text, \n",
    "# convert it to the float type, \n",
    "#and assign it to the variable first_imdb:\n",
    "first_imdb = float(first_movie.strong.text)\n",
    "first_imdb"
   ]
  },
  {
   "cell_type": "markdown",
   "metadata": {},
   "source": [
    "## Metascore "
   ]
  },
  {
   "cell_type": "code",
   "execution_count": 52,
   "metadata": {
    "collapsed": true
   },
   "outputs": [],
   "source": [
    "first_mscore = first_movie.find('span',class_=\"metascore favorable\")\n",
    "# Note that if you copy-paste those values \n",
    "# from DevTools' tab, \n",
    "# there will be two white space characters \n",
    "# between metascore and favorable. \n",
    "# Make sure there will be only one whitespace \n",
    "# character when you pass the values as arguments \n",
    "# to the class_ parameter. Otherwise, find() \n",
    "# won't find anything."
   ]
  },
  {
   "cell_type": "code",
   "execution_count": 53,
   "metadata": {},
   "outputs": [
    {
     "name": "stdout",
     "output_type": "stream",
     "text": [
      "77\n"
     ]
    }
   ],
   "source": [
    "first_mscore = int(first_mscore.text)\n",
    "print(first_mscore)"
   ]
  },
  {
   "cell_type": "markdown",
   "metadata": {},
   "source": [
    "## number of votes"
   ]
  },
  {
   "cell_type": "code",
   "execution_count": 59,
   "metadata": {
    "collapsed": true
   },
   "outputs": [],
   "source": [
    "first_vote = first_movie.find('span',name_=\"nv\")\n",
    "# this does not work because"
   ]
  },
  {
   "cell_type": "raw",
   "metadata": {},
   "source": [
    "The name attribute is different from the class attribute. Using BeautifulSoup we can access elements by any attribute. The find() and find_all() functions have a parameter named attrs. To this we can pass in the attributes and values we are searching for as dictionary:"
   ]
  },
  {
   "cell_type": "code",
   "execution_count": 64,
   "metadata": {
    "collapsed": true
   },
   "outputs": [],
   "source": [
    "first_vote = first_movie.find('span',attrs={'name':'nv'})"
   ]
  },
  {
   "cell_type": "code",
   "execution_count": 67,
   "metadata": {},
   "outputs": [
    {
     "ename": "ValueError",
     "evalue": "invalid literal for int() with base 10: '498,637'",
     "output_type": "error",
     "traceback": [
      "\u001b[0;31m---------------------------------------------------------------------------\u001b[0m",
      "\u001b[0;31mValueError\u001b[0m                                Traceback (most recent call last)",
      "\u001b[0;32m<ipython-input-67-bf5ed1b26c10>\u001b[0m in \u001b[0;36m<module>\u001b[0;34m()\u001b[0m\n\u001b[0;32m----> 1\u001b[0;31m \u001b[0mint\u001b[0m\u001b[0;34m(\u001b[0m\u001b[0mfirst_vote\u001b[0m\u001b[0;34m.\u001b[0m\u001b[0mtext\u001b[0m\u001b[0;34m)\u001b[0m\u001b[0;34m\u001b[0m\u001b[0m\n\u001b[0m\u001b[1;32m      2\u001b[0m \u001b[0;31m# the reason of invalid literal is the comma in 498,637\u001b[0m\u001b[0;34m\u001b[0m\u001b[0;34m\u001b[0m\u001b[0m\n",
      "\u001b[0;31mValueError\u001b[0m: invalid literal for int() with base 10: '498,637'"
     ]
    }
   ],
   "source": [
    "int(first_vote.text)\n",
    "# the reason of invalid literal is the comma in 498,637"
   ]
  },
  {
   "cell_type": "markdown",
   "metadata": {},
   "source": [
    "We could use .text notation to access the <span> tag's content. It would be better though if we accessed the value of the ** data-value attribute. This way we can convert the extracted datapoint to an int without having to strip a comma.**\n",
    "\n",
    "** You can treat a Tag object just like a dictionary. The HTML attributes are the dictionary's keys. The values of the HTML attributes are the values of the dictionary's keys.** This is how we can access the value of the data-value attribute:"
   ]
  },
  {
   "cell_type": "code",
   "execution_count": 68,
   "metadata": {},
   "outputs": [
    {
     "data": {
      "text/plain": [
       "'498637'"
      ]
     },
     "execution_count": 68,
     "metadata": {},
     "output_type": "execute_result"
    }
   ],
   "source": [
    "first_vote['data-value']"
   ]
  },
  {
   "cell_type": "code",
   "execution_count": 69,
   "metadata": {
    "collapsed": true
   },
   "outputs": [],
   "source": [
    "# Let's convert that value to an integer, and assign it to first_votes:\n",
    "first_vote = int(first_vote['data-value'])"
   ]
  },
  {
   "cell_type": "markdown",
   "metadata": {},
   "source": [
    "# The script for a single page"
   ]
  },
  {
   "cell_type": "raw",
   "metadata": {},
   "source": [
    "We need to add a condition to skip movies without a Metascore.\n",
    "\n",
    "Using DevTools again, we see that the Metascore section is contained within a <div> tag. The class attribute has two values: inline-block and ratings-metascore. The distinctive one is clearly ratings-metascore."
   ]
  },
  {
   "cell_type": "code",
   "execution_count": 75,
   "metadata": {},
   "outputs": [
    {
     "data": {
      "text/plain": [
       "NoneType"
      ]
     },
     "execution_count": 75,
     "metadata": {},
     "output_type": "execute_result"
    }
   ],
   "source": [
    "# 23st movie does not have a meta score\n",
    "twenty_third_movie_mscore = movie_containers[22].find('div', class_ = 'ratings-metascore')\n",
    "type(twenty_third_movie_mscore)"
   ]
  },
  {
   "cell_type": "markdown",
   "metadata": {},
   "source": [
    "In the next code block we:\n",
    "\n",
    "- Declare some list variables to have something to store the extracted data in.\n",
    "- Loop through each container in movie_containers (the variable which contains all the 50 movie containers).\n",
    "- Extract the data points of interest only if the container has a Metascore."
   ]
  },
  {
   "cell_type": "raw",
   "metadata": {},
   "source": [
    "The name of the movie.\n",
    "The year of release.\n",
    "The IMDB rating.\n",
    "The Metascore.\n",
    "The number of votes."
   ]
  },
  {
   "cell_type": "code",
   "execution_count": 79,
   "metadata": {
    "collapsed": true
   },
   "outputs": [],
   "source": [
    "names = []\n",
    "years = []\n",
    "imdb_ratings = []\n",
    "metascores = []\n",
    "votes = []\n",
    "\n",
    "for container in movie_containers:\n",
    "    if container.find('div', class_ = 'ratings-metascore') is not None:\n",
    "        name = container.h3.a.text\n",
    "        # put all 50 movie names into a list called names\n",
    "        names.append(name)\n",
    "        \n",
    "        year = container.h3.find('span',class_=\"lister-item-year text-muted unbold\").text\n",
    "        years.append(year)\n",
    "        \n",
    "        imdb = float(container.strong.text)\n",
    "        imdb_ratings.append(imdb)\n",
    "        \n",
    "        meta = int(first_movie.find('span',class_=\"metascore favorable\").text)\n",
    "        metascores.append(meta)\n",
    "        \n",
    "        vote = int(container.find('span',attrs={'name':'nv'})['data-value'])\n",
    "        votes.append(vote)\n",
    "        "
   ]
  },
  {
   "cell_type": "markdown",
   "metadata": {},
   "source": [
    "Pandas makes it easy for us to see whether we've scraped our data successfully."
   ]
  },
  {
   "cell_type": "code",
   "execution_count": 80,
   "metadata": {},
   "outputs": [
    {
     "name": "stdout",
     "output_type": "stream",
     "text": [
      "<class 'pandas.core.frame.DataFrame'>\n",
      "RangeIndex: 47 entries, 0 to 46\n",
      "Data columns (total 5 columns):\n",
      "imdb          47 non-null float64\n",
      "metascores    47 non-null int64\n",
      "movie         47 non-null object\n",
      "vote          47 non-null int64\n",
      "year          47 non-null object\n",
      "dtypes: float64(1), int64(2), object(2)\n",
      "memory usage: 1.9+ KB\n",
      "None\n"
     ]
    },
    {
     "data": {
      "text/html": [
       "<div>\n",
       "<style>\n",
       "    .dataframe thead tr:only-child th {\n",
       "        text-align: right;\n",
       "    }\n",
       "\n",
       "    .dataframe thead th {\n",
       "        text-align: left;\n",
       "    }\n",
       "\n",
       "    .dataframe tbody tr th {\n",
       "        vertical-align: top;\n",
       "    }\n",
       "</style>\n",
       "<table border=\"1\" class=\"dataframe\">\n",
       "  <thead>\n",
       "    <tr style=\"text-align: right;\">\n",
       "      <th></th>\n",
       "      <th>imdb</th>\n",
       "      <th>metascores</th>\n",
       "      <th>movie</th>\n",
       "      <th>vote</th>\n",
       "      <th>year</th>\n",
       "    </tr>\n",
       "  </thead>\n",
       "  <tbody>\n",
       "    <tr>\n",
       "      <th>0</th>\n",
       "      <td>8.1</td>\n",
       "      <td>77</td>\n",
       "      <td>Logan</td>\n",
       "      <td>498637</td>\n",
       "      <td>(2017)</td>\n",
       "    </tr>\n",
       "    <tr>\n",
       "      <th>1</th>\n",
       "      <td>7.5</td>\n",
       "      <td>77</td>\n",
       "      <td>Wonder Woman</td>\n",
       "      <td>428133</td>\n",
       "      <td>(2017)</td>\n",
       "    </tr>\n",
       "    <tr>\n",
       "      <th>2</th>\n",
       "      <td>8.0</td>\n",
       "      <td>77</td>\n",
       "      <td>Dunkirk</td>\n",
       "      <td>408325</td>\n",
       "      <td>(2017)</td>\n",
       "    </tr>\n",
       "    <tr>\n",
       "      <th>3</th>\n",
       "      <td>7.3</td>\n",
       "      <td>77</td>\n",
       "      <td>Star Wars: Episode VIII - The Last Jedi</td>\n",
       "      <td>403952</td>\n",
       "      <td>(2017)</td>\n",
       "    </tr>\n",
       "    <tr>\n",
       "      <th>4</th>\n",
       "      <td>7.7</td>\n",
       "      <td>77</td>\n",
       "      <td>Guardians of the Galaxy Vol. 2</td>\n",
       "      <td>399168</td>\n",
       "      <td>(2017)</td>\n",
       "    </tr>\n",
       "    <tr>\n",
       "      <th>5</th>\n",
       "      <td>7.9</td>\n",
       "      <td>77</td>\n",
       "      <td>Thor: Ragnarok</td>\n",
       "      <td>368439</td>\n",
       "      <td>(2017)</td>\n",
       "    </tr>\n",
       "    <tr>\n",
       "      <th>6</th>\n",
       "      <td>7.5</td>\n",
       "      <td>77</td>\n",
       "      <td>Spider-Man: Homecoming</td>\n",
       "      <td>345751</td>\n",
       "      <td>(2017)</td>\n",
       "    </tr>\n",
       "    <tr>\n",
       "      <th>7</th>\n",
       "      <td>7.7</td>\n",
       "      <td>77</td>\n",
       "      <td>Get Out</td>\n",
       "      <td>322071</td>\n",
       "      <td>(I) (2017)</td>\n",
       "    </tr>\n",
       "    <tr>\n",
       "      <th>8</th>\n",
       "      <td>8.1</td>\n",
       "      <td>77</td>\n",
       "      <td>Blade Runner 2049</td>\n",
       "      <td>318579</td>\n",
       "      <td>(2017)</td>\n",
       "    </tr>\n",
       "    <tr>\n",
       "      <th>9</th>\n",
       "      <td>7.7</td>\n",
       "      <td>77</td>\n",
       "      <td>Baby Driver</td>\n",
       "      <td>314816</td>\n",
       "      <td>(2017)</td>\n",
       "    </tr>\n",
       "    <tr>\n",
       "      <th>10</th>\n",
       "      <td>7.4</td>\n",
       "      <td>77</td>\n",
       "      <td>It</td>\n",
       "      <td>294599</td>\n",
       "      <td>(I) (2017)</td>\n",
       "    </tr>\n",
       "    <tr>\n",
       "      <th>11</th>\n",
       "      <td>6.6</td>\n",
       "      <td>77</td>\n",
       "      <td>Justice League</td>\n",
       "      <td>271391</td>\n",
       "      <td>(2017)</td>\n",
       "    </tr>\n",
       "    <tr>\n",
       "      <th>12</th>\n",
       "      <td>8.2</td>\n",
       "      <td>77</td>\n",
       "      <td>Three Billboards Outside Ebbing, Missouri</td>\n",
       "      <td>262085</td>\n",
       "      <td>(2017)</td>\n",
       "    </tr>\n",
       "    <tr>\n",
       "      <th>13</th>\n",
       "      <td>7.4</td>\n",
       "      <td>77</td>\n",
       "      <td>The Shape of Water</td>\n",
       "      <td>238086</td>\n",
       "      <td>(2017)</td>\n",
       "    </tr>\n",
       "    <tr>\n",
       "      <th>14</th>\n",
       "      <td>7.5</td>\n",
       "      <td>77</td>\n",
       "      <td>John Wick: Chapter 2</td>\n",
       "      <td>237804</td>\n",
       "      <td>(2017)</td>\n",
       "    </tr>\n",
       "    <tr>\n",
       "      <th>15</th>\n",
       "      <td>7.2</td>\n",
       "      <td>77</td>\n",
       "      <td>Beauty and the Beast</td>\n",
       "      <td>212498</td>\n",
       "      <td>(2017)</td>\n",
       "    </tr>\n",
       "    <tr>\n",
       "      <th>16</th>\n",
       "      <td>6.7</td>\n",
       "      <td>77</td>\n",
       "      <td>Kong: Skull Island</td>\n",
       "      <td>212285</td>\n",
       "      <td>(2017)</td>\n",
       "    </tr>\n",
       "    <tr>\n",
       "      <th>17</th>\n",
       "      <td>6.4</td>\n",
       "      <td>77</td>\n",
       "      <td>Alien: Covenant</td>\n",
       "      <td>205369</td>\n",
       "      <td>(2017)</td>\n",
       "    </tr>\n",
       "    <tr>\n",
       "      <th>18</th>\n",
       "      <td>8.4</td>\n",
       "      <td>77</td>\n",
       "      <td>Coco</td>\n",
       "      <td>203069</td>\n",
       "      <td>(I) (2017)</td>\n",
       "    </tr>\n",
       "    <tr>\n",
       "      <th>19</th>\n",
       "      <td>6.6</td>\n",
       "      <td>77</td>\n",
       "      <td>Pirates of the Caribbean: Dead Men Tell No Tales</td>\n",
       "      <td>202055</td>\n",
       "      <td>(2017)</td>\n",
       "    </tr>\n",
       "    <tr>\n",
       "      <th>20</th>\n",
       "      <td>6.8</td>\n",
       "      <td>77</td>\n",
       "      <td>Kingsman: The Golden Circle</td>\n",
       "      <td>193578</td>\n",
       "      <td>(2017)</td>\n",
       "    </tr>\n",
       "    <tr>\n",
       "      <th>21</th>\n",
       "      <td>7.0</td>\n",
       "      <td>77</td>\n",
       "      <td>Jumanji: Welcome to the Jungle</td>\n",
       "      <td>189341</td>\n",
       "      <td>(2017)</td>\n",
       "    </tr>\n",
       "    <tr>\n",
       "      <th>22</th>\n",
       "      <td>7.5</td>\n",
       "      <td>77</td>\n",
       "      <td>War for the Planet of the Apes</td>\n",
       "      <td>179926</td>\n",
       "      <td>(2017)</td>\n",
       "    </tr>\n",
       "    <tr>\n",
       "      <th>23</th>\n",
       "      <td>6.7</td>\n",
       "      <td>77</td>\n",
       "      <td>The Fate of the Furious</td>\n",
       "      <td>164886</td>\n",
       "      <td>(2017)</td>\n",
       "    </tr>\n",
       "    <tr>\n",
       "      <th>24</th>\n",
       "      <td>6.6</td>\n",
       "      <td>77</td>\n",
       "      <td>Life</td>\n",
       "      <td>161868</td>\n",
       "      <td>(I) (2017)</td>\n",
       "    </tr>\n",
       "    <tr>\n",
       "      <th>25</th>\n",
       "      <td>6.4</td>\n",
       "      <td>77</td>\n",
       "      <td>Ghost in the Shell</td>\n",
       "      <td>157151</td>\n",
       "      <td>(2017)</td>\n",
       "    </tr>\n",
       "    <tr>\n",
       "      <th>26</th>\n",
       "      <td>6.8</td>\n",
       "      <td>77</td>\n",
       "      <td>King Arthur: Legend of the Sword</td>\n",
       "      <td>152941</td>\n",
       "      <td>(2017)</td>\n",
       "    </tr>\n",
       "    <tr>\n",
       "      <th>27</th>\n",
       "      <td>6.5</td>\n",
       "      <td>77</td>\n",
       "      <td>Murder on the Orient Express</td>\n",
       "      <td>147007</td>\n",
       "      <td>(2017)</td>\n",
       "    </tr>\n",
       "    <tr>\n",
       "      <th>28</th>\n",
       "      <td>7.7</td>\n",
       "      <td>77</td>\n",
       "      <td>The Greatest Showman</td>\n",
       "      <td>143861</td>\n",
       "      <td>(2017)</td>\n",
       "    </tr>\n",
       "    <tr>\n",
       "      <th>29</th>\n",
       "      <td>6.9</td>\n",
       "      <td>77</td>\n",
       "      <td>The Hitman's Bodyguard</td>\n",
       "      <td>139246</td>\n",
       "      <td>(2017)</td>\n",
       "    </tr>\n",
       "    <tr>\n",
       "      <th>30</th>\n",
       "      <td>7.5</td>\n",
       "      <td>77</td>\n",
       "      <td>Lady Bird</td>\n",
       "      <td>139017</td>\n",
       "      <td>(2017)</td>\n",
       "    </tr>\n",
       "    <tr>\n",
       "      <th>31</th>\n",
       "      <td>5.5</td>\n",
       "      <td>77</td>\n",
       "      <td>The Mummy</td>\n",
       "      <td>137723</td>\n",
       "      <td>(2017)</td>\n",
       "    </tr>\n",
       "    <tr>\n",
       "      <th>32</th>\n",
       "      <td>7.8</td>\n",
       "      <td>77</td>\n",
       "      <td>Wind River</td>\n",
       "      <td>136028</td>\n",
       "      <td>(2017)</td>\n",
       "    </tr>\n",
       "    <tr>\n",
       "      <th>33</th>\n",
       "      <td>6.4</td>\n",
       "      <td>77</td>\n",
       "      <td>Bright</td>\n",
       "      <td>131906</td>\n",
       "      <td>(I) (2017)</td>\n",
       "    </tr>\n",
       "    <tr>\n",
       "      <th>34</th>\n",
       "      <td>6.7</td>\n",
       "      <td>77</td>\n",
       "      <td>Atomic Blonde</td>\n",
       "      <td>130670</td>\n",
       "      <td>(2017)</td>\n",
       "    </tr>\n",
       "    <tr>\n",
       "      <th>35</th>\n",
       "      <td>6.7</td>\n",
       "      <td>77</td>\n",
       "      <td>Mother!</td>\n",
       "      <td>127644</td>\n",
       "      <td>(2017)</td>\n",
       "    </tr>\n",
       "    <tr>\n",
       "      <th>36</th>\n",
       "      <td>6.5</td>\n",
       "      <td>77</td>\n",
       "      <td>Valerian and the City of a Thousand Planets</td>\n",
       "      <td>122927</td>\n",
       "      <td>(2017)</td>\n",
       "    </tr>\n",
       "    <tr>\n",
       "      <th>37</th>\n",
       "      <td>8.0</td>\n",
       "      <td>77</td>\n",
       "      <td>Call Me by Your Name</td>\n",
       "      <td>118275</td>\n",
       "      <td>(2017)</td>\n",
       "    </tr>\n",
       "    <tr>\n",
       "      <th>38</th>\n",
       "      <td>5.6</td>\n",
       "      <td>77</td>\n",
       "      <td>Baywatch</td>\n",
       "      <td>112800</td>\n",
       "      <td>(2017)</td>\n",
       "    </tr>\n",
       "    <tr>\n",
       "      <th>39</th>\n",
       "      <td>7.2</td>\n",
       "      <td>77</td>\n",
       "      <td>American Made</td>\n",
       "      <td>110163</td>\n",
       "      <td>(2017)</td>\n",
       "    </tr>\n",
       "    <tr>\n",
       "      <th>40</th>\n",
       "      <td>7.4</td>\n",
       "      <td>77</td>\n",
       "      <td>Darkest Hour</td>\n",
       "      <td>106843</td>\n",
       "      <td>(2017)</td>\n",
       "    </tr>\n",
       "    <tr>\n",
       "      <th>41</th>\n",
       "      <td>7.5</td>\n",
       "      <td>77</td>\n",
       "      <td>I, Tonya</td>\n",
       "      <td>103763</td>\n",
       "      <td>(2017)</td>\n",
       "    </tr>\n",
       "    <tr>\n",
       "      <th>42</th>\n",
       "      <td>5.2</td>\n",
       "      <td>77</td>\n",
       "      <td>Transformers: The Last Knight</td>\n",
       "      <td>103732</td>\n",
       "      <td>(2017)</td>\n",
       "    </tr>\n",
       "    <tr>\n",
       "      <th>43</th>\n",
       "      <td>7.3</td>\n",
       "      <td>77</td>\n",
       "      <td>The Lego Batman Movie</td>\n",
       "      <td>102789</td>\n",
       "      <td>(2017)</td>\n",
       "    </tr>\n",
       "    <tr>\n",
       "      <th>44</th>\n",
       "      <td>5.7</td>\n",
       "      <td>77</td>\n",
       "      <td>The Dark Tower</td>\n",
       "      <td>94728</td>\n",
       "      <td>(2017)</td>\n",
       "    </tr>\n",
       "    <tr>\n",
       "      <th>45</th>\n",
       "      <td>7.6</td>\n",
       "      <td>77</td>\n",
       "      <td>The Big Sick</td>\n",
       "      <td>90811</td>\n",
       "      <td>(2017)</td>\n",
       "    </tr>\n",
       "    <tr>\n",
       "      <th>46</th>\n",
       "      <td>7.5</td>\n",
       "      <td>77</td>\n",
       "      <td>The Disaster Artist</td>\n",
       "      <td>89431</td>\n",
       "      <td>(2017)</td>\n",
       "    </tr>\n",
       "  </tbody>\n",
       "</table>\n",
       "</div>"
      ],
      "text/plain": [
       "    imdb  metascores                                             movie  \\\n",
       "0    8.1          77                                             Logan   \n",
       "1    7.5          77                                      Wonder Woman   \n",
       "2    8.0          77                                           Dunkirk   \n",
       "3    7.3          77           Star Wars: Episode VIII - The Last Jedi   \n",
       "4    7.7          77                    Guardians of the Galaxy Vol. 2   \n",
       "5    7.9          77                                    Thor: Ragnarok   \n",
       "6    7.5          77                            Spider-Man: Homecoming   \n",
       "7    7.7          77                                           Get Out   \n",
       "8    8.1          77                                 Blade Runner 2049   \n",
       "9    7.7          77                                       Baby Driver   \n",
       "10   7.4          77                                                It   \n",
       "11   6.6          77                                    Justice League   \n",
       "12   8.2          77         Three Billboards Outside Ebbing, Missouri   \n",
       "13   7.4          77                                The Shape of Water   \n",
       "14   7.5          77                              John Wick: Chapter 2   \n",
       "15   7.2          77                              Beauty and the Beast   \n",
       "16   6.7          77                                Kong: Skull Island   \n",
       "17   6.4          77                                   Alien: Covenant   \n",
       "18   8.4          77                                              Coco   \n",
       "19   6.6          77  Pirates of the Caribbean: Dead Men Tell No Tales   \n",
       "20   6.8          77                       Kingsman: The Golden Circle   \n",
       "21   7.0          77                    Jumanji: Welcome to the Jungle   \n",
       "22   7.5          77                    War for the Planet of the Apes   \n",
       "23   6.7          77                           The Fate of the Furious   \n",
       "24   6.6          77                                              Life   \n",
       "25   6.4          77                                Ghost in the Shell   \n",
       "26   6.8          77                  King Arthur: Legend of the Sword   \n",
       "27   6.5          77                      Murder on the Orient Express   \n",
       "28   7.7          77                              The Greatest Showman   \n",
       "29   6.9          77                            The Hitman's Bodyguard   \n",
       "30   7.5          77                                         Lady Bird   \n",
       "31   5.5          77                                         The Mummy   \n",
       "32   7.8          77                                        Wind River   \n",
       "33   6.4          77                                            Bright   \n",
       "34   6.7          77                                     Atomic Blonde   \n",
       "35   6.7          77                                           Mother!   \n",
       "36   6.5          77       Valerian and the City of a Thousand Planets   \n",
       "37   8.0          77                              Call Me by Your Name   \n",
       "38   5.6          77                                          Baywatch   \n",
       "39   7.2          77                                     American Made   \n",
       "40   7.4          77                                      Darkest Hour   \n",
       "41   7.5          77                                          I, Tonya   \n",
       "42   5.2          77                     Transformers: The Last Knight   \n",
       "43   7.3          77                             The Lego Batman Movie   \n",
       "44   5.7          77                                    The Dark Tower   \n",
       "45   7.6          77                                      The Big Sick   \n",
       "46   7.5          77                               The Disaster Artist   \n",
       "\n",
       "      vote        year  \n",
       "0   498637      (2017)  \n",
       "1   428133      (2017)  \n",
       "2   408325      (2017)  \n",
       "3   403952      (2017)  \n",
       "4   399168      (2017)  \n",
       "5   368439      (2017)  \n",
       "6   345751      (2017)  \n",
       "7   322071  (I) (2017)  \n",
       "8   318579      (2017)  \n",
       "9   314816      (2017)  \n",
       "10  294599  (I) (2017)  \n",
       "11  271391      (2017)  \n",
       "12  262085      (2017)  \n",
       "13  238086      (2017)  \n",
       "14  237804      (2017)  \n",
       "15  212498      (2017)  \n",
       "16  212285      (2017)  \n",
       "17  205369      (2017)  \n",
       "18  203069  (I) (2017)  \n",
       "19  202055      (2017)  \n",
       "20  193578      (2017)  \n",
       "21  189341      (2017)  \n",
       "22  179926      (2017)  \n",
       "23  164886      (2017)  \n",
       "24  161868  (I) (2017)  \n",
       "25  157151      (2017)  \n",
       "26  152941      (2017)  \n",
       "27  147007      (2017)  \n",
       "28  143861      (2017)  \n",
       "29  139246      (2017)  \n",
       "30  139017      (2017)  \n",
       "31  137723      (2017)  \n",
       "32  136028      (2017)  \n",
       "33  131906  (I) (2017)  \n",
       "34  130670      (2017)  \n",
       "35  127644      (2017)  \n",
       "36  122927      (2017)  \n",
       "37  118275      (2017)  \n",
       "38  112800      (2017)  \n",
       "39  110163      (2017)  \n",
       "40  106843      (2017)  \n",
       "41  103763      (2017)  \n",
       "42  103732      (2017)  \n",
       "43  102789      (2017)  \n",
       "44   94728      (2017)  \n",
       "45   90811      (2017)  \n",
       "46   89431      (2017)  "
      ]
     },
     "execution_count": 80,
     "metadata": {},
     "output_type": "execute_result"
    }
   ],
   "source": [
    "import pandas as pd\n",
    "test_df = pd.DataFrame({'movie':names,\n",
    "                       'year':years,\n",
    "                       'imdb':imdb_ratings,\n",
    "                       'metascores':metascores,\n",
    "                       'vote':votes})\n",
    "\n",
    "print(test_df.info())\n",
    "test_df"
   ]
  },
  {
   "cell_type": "code",
   "execution_count": 81,
   "metadata": {
    "collapsed": true
   },
   "outputs": [],
   "source": [
    "headers = {\"Accept-Language\":\"en-US,en;q=0.5\"}"
   ]
  },
  {
   "cell_type": "raw",
   "metadata": {},
   "source": [
    "This will communicate the server something like \"I want the linguistic content in American English (en-US). If en-US is not available, then other types of English (en) would be fine too (but not as much as en-US).\". The q parameter indicates the degree to which we prefer a certain language. If not specified, then the values is set to 1 by default, like in the case of en-US. You can read more about this here."
   ]
  },
  {
   "cell_type": "markdown",
   "metadata": {},
   "source": [
    "# The script for multiple pages"
   ]
  },
  {
   "cell_type": "markdown",
   "metadata": {},
   "source": [
    "We'll build upon our one-page script by doing three more things:\n",
    "\n",
    "- Making all the requests we want from within the loop.\n",
    "- Controlling the loop's rate to avoid bombarding the server with requests.\n",
    "- Monitoring the loop while it runs."
   ]
  },
  {
   "cell_type": "markdown",
   "metadata": {},
   "source": [
    "We'll scrape the first 4 pages of each year in the interval 2000-2017. 4 pages for each of the 18 years makes for a total of 72 pages. Each page has 50 movies, so we'll scrape data for 3600 movies at most. But not all the movies have a Metascore, so the number will be lower than that. Even so, we are still very likely to get data for over 2000 movies."
   ]
  },
  {
   "cell_type": "markdown",
   "metadata": {},
   "source": [
    "### Changing the URL's parameters"
   ]
  },
  {
   "cell_type": "markdown",
   "metadata": {},
   "source": [
    "As we are making the requests, we'll only have to vary the values of only two parameters of the URL: the release_date parameter, and page. Let's prepare the values we'll need for the forthcoming loop. In the next code cell we will:\n",
    "\n",
    "- Create a list called pages, and populate it with the strings corresponding to the first 4 pages.\n",
    "- Create a list called years_url and populate it with the strings corresponding to the years 2000-2017."
   ]
  },
  {
   "cell_type": "code",
   "execution_count": 82,
   "metadata": {
    "collapsed": true
   },
   "outputs": [],
   "source": [
    "pages = [str(i) for i in range(1,5)]\n",
    "years_url = [str(i) for i in range(2000,2018)]"
   ]
  },
  {
   "cell_type": "markdown",
   "metadata": {},
   "source": [
    "### Controlling the crawl-rate"
   ]
  },
  {
   "cell_type": "markdown",
   "metadata": {},
   "source": [
    "We'll control the loop's rate by using the sleep() function from Python's time module. sleep() will pause the execution of the loop for a specified amount of seconds.\n",
    "\n",
    "To mimic human behavior, we'll vary the amount of waiting time between requests by using the randint() function from the Python's random module. randint() randomly generates integers within a specified interval."
   ]
  },
  {
   "cell_type": "code",
   "execution_count": 83,
   "metadata": {},
   "outputs": [
    {
     "name": "stdout",
     "output_type": "stream",
     "text": [
      "Blah\n",
      "Blah\n",
      "Blah\n",
      "Blah\n",
      "Blah\n"
     ]
    }
   ],
   "source": [
    "from time import sleep\n",
    "from random import randint\n",
    "\n",
    "for i in range(0,5):\n",
    "    print('Blah')\n",
    "    sleep(randint(1,4))"
   ]
  },
  {
   "cell_type": "markdown",
   "metadata": {},
   "source": [
    "### Monitoring the loop as it's still going"
   ]
  },
  {
   "cell_type": "markdown",
   "metadata": {},
   "source": [
    "Given that we're scraping 72 pages, it would be nice if we could find a way to monitor the scraping process as it's still going. This feature is definitely optional, but it can be very helpful in the testing and debugging process. Also, the greater the number of pages, the more helpful the monitoring becomes. If you are going to scrape hundreds or thousands of web pages in a single code run, I would say that this feature becomes a must.\n",
    "\n",
    "For our script, we'll make use of this feature, and monitor the following parameters:\n",
    "\n",
    "- The frequency (speed) of requests, so we make sure our program is not overloading the server.\n",
    "- The number of requests, so we can halt the loop in case the number of expected requests is exceeded.\n",
    "- The status code of our requests, so we make sure the server is sending back the proper responses.\n",
    "\n",
    "To get a frequency value we'll divide the number of requests by the time elapsed since the first request. This is similar to computing the speed of a car - we divide the distance by the time taken to cover that distance. Let's experiment with this monitoring technique at a small scale first. In the following code cell we will:\n",
    "\n",
    "- Set a starting time using the time() function from the time module, and assign the value to start_time.\n",
    "- Assign 0 to the variable requests which we'll use to count the number of requests.\n",
    "- Start a loop, and then with each iteration:\n",
    "  - Simulate a request.\n",
    "  - Increment the number of requests by 1.\n",
    "  - Pause the loop for a time interval between 8 and 15 seconds.\n",
    "  - Calculate the elapsed time since the first request, and assign the value to elapsed_time.\n",
    "  - Print the number of requests and the frequency."
   ]
  },
  {
   "cell_type": "code",
   "execution_count": 84,
   "metadata": {},
   "outputs": [
    {
     "name": "stdout",
     "output_type": "stream",
     "text": [
      "Request: 1; Frenquency:0.3327792439508427 requests/s\n",
      "Request: 2; Frenquency:0.3329667313023041 requests/s\n",
      "Request: 3; Frenquency:0.33292013694614664 requests/s\n",
      "Request: 4; Frenquency:0.3632065287573407 requests/s\n",
      "Request: 5; Frenquency:0.38409532053059553 requests/s\n"
     ]
    }
   ],
   "source": [
    "from time import time\n",
    "start_time = time()\n",
    "requests = 0\n",
    "\n",
    "for _ in range(5):\n",
    "    requests += 1\n",
    "    sleep(randint(1,3))\n",
    "    elapsed_time = time() - start_time\n",
    "    print('Request: {}; Frenquency:{} requests/s'.\\\n",
    "         format(requests,requests/elapsed_time))"
   ]
  },
  {
   "cell_type": "markdown",
   "metadata": {},
   "source": [
    "Since we're going to make 72 requests, our work will look a bit untidy as the output accumulates. To avoid that, we'll clear the output after each iteration, and replace it with information about the most recent request. To do that we'll use the ** clear_output()** function from the IPython's core.display module. We'll set the wait parameter of clear_output() to True to wait with replacing the current output until some new output appears."
   ]
  },
  {
   "cell_type": "code",
   "execution_count": 85,
   "metadata": {},
   "outputs": [
    {
     "name": "stdout",
     "output_type": "stream",
     "text": [
      "Request: 5; Frequency: 0.4532834384484193 requests/s\n"
     ]
    }
   ],
   "source": [
    "from IPython.core.display import clear_output\n",
    "\n",
    "start_time = time()\n",
    "requests = 0\n",
    "\n",
    "for _ in range(5):\n",
    "    # A request would go here\n",
    "    requests += 1\n",
    "    sleep(randint(1,3))\n",
    "    current_time = time()\n",
    "    elapsed_time = current_time - start_time\n",
    "    print('Request: {}; Frequency: {} requests/s'.format(requests, requests/elapsed_time))\n",
    "    clear_output(wait = True)"
   ]
  },
  {
   "cell_type": "markdown",
   "metadata": {},
   "source": [
    "To monitor the status code we'll set the program to warn us if there's something off. A successful request is indicated by a status code of 200. We'll use the warn() function from the warnings module to throw a warning if the status code is not 200."
   ]
  },
  {
   "cell_type": "code",
   "execution_count": 86,
   "metadata": {},
   "outputs": [
    {
     "name": "stderr",
     "output_type": "stream",
     "text": [
      "/Users/wkw/anaconda3/lib/python3.6/site-packages/ipykernel_launcher.py:2: UserWarning: Warning Simulation\n",
      "  \n"
     ]
    }
   ],
   "source": [
    "from warnings import warn\n",
    "warn(\"Warning Simulation\")"
   ]
  },
  {
   "cell_type": "markdown",
   "metadata": {},
   "source": [
    "# Piecing everything together"
   ]
  },
  {
   "cell_type": "markdown",
   "metadata": {},
   "source": [
    "In the following code cell, we start by:\n",
    "\n",
    "- Redeclaring the lists variables so they become empty again.\n",
    "- Preparing the monitoring of the loop.\n",
    "Then, we'll:\n",
    "\n",
    "- Loop through the years_url list to vary the release_date parameter of the URL.\n",
    "- For each element in years_url, loop through the pages list to vary the page parameter of the URL.\n",
    "- Make the GET requests within the pages loop (and give the headers parameter the right value to make sure we get only English content).\n",
    "- Pause the loop for a time interval between 8 and 15 seconds.\n",
    "- Monitor each request as discussed before.\n",
    "- Throw a warning for non-200 status codes.\n",
    "- Break the loop if the number of requests is greater than expected.\n",
    "- Convert the response's HTML content to a BeautifulSoup object.\n",
    "- Extract all movie containers from this BeautifulSoup object.\n",
    "- Loop through all these containers.\n",
    "- Extract the data if a container has a Metascore."
   ]
  },
  {
   "cell_type": "code",
   "execution_count": 88,
   "metadata": {},
   "outputs": [
    {
     "name": "stdout",
     "output_type": "stream",
     "text": [
      "Request:72; Frenquency:0.0018382522520500166 requests/s\n"
     ]
    }
   ],
   "source": [
    "# redeclaring the lists to store data in\n",
    "names = []\n",
    "years = []\n",
    "imdb_ratings = []\n",
    "metascores = []\n",
    "votes = []\n",
    "\n",
    "# Preparing the monitoring of the loop\n",
    "start_time = time()\n",
    "requests = 0\n",
    "\n",
    "# for every year in the interval 2000 - 2017\n",
    "for year_url in years_url:\n",
    "    \n",
    "    # for every page in the interval 1-4\n",
    "    for page in pages:\n",
    "        \n",
    "        # make a get request\n",
    "        response = get('https://www.imdb.com/search/title?release_date='+year_url+\\\n",
    "                       '&sort=num_votes,desc&page='+page,headers = headers)\n",
    "        # pause the loop\n",
    "        sleep(randint(8,15))\n",
    "        \n",
    "        # minitor the requests\n",
    "        requests +=1\n",
    "        elapsed_time = time()-start_time\n",
    "        print('Request:{}; Frenquency:{} requests/s'.\\\n",
    "             format(requests,requests/elapsed_time))\n",
    "        clear_output(wait=True)\n",
    "        \n",
    "         # Throw a warning for non-200 status codes\n",
    "        if response.status_code != 200:\n",
    "            warn('Request: {}; Status code: {}'.format(requests, response.status_code))\n",
    "\n",
    "        # Break the loop if the number of requests is greater than expected\n",
    "        if requests > 72:\n",
    "            warn('Number of requests was greater than expected.')  \n",
    "            break \n",
    "\n",
    "        # Parse the content of the request with BeautifulSoup\n",
    "        page_html = BeautifulSoup(response.text, 'html.parser')\n",
    "\n",
    "        # Select all the 50 movie containers from a single page\n",
    "        mv_containers = page_html.find_all('div', class_ = 'lister-item mode-advanced')\n",
    "\n",
    "        # For every movie of these 50\n",
    "        for container in mv_containers:\n",
    "            # If the movie has a Metascore, then:\n",
    "            if container.find('div', class_ = 'ratings-metascore') is not None:\n",
    "\n",
    "                # Scrape the name\n",
    "                name = container.h3.a.text\n",
    "                names.append(name)\n",
    "\n",
    "                # Scrape the year \n",
    "                year = container.h3.find('span', class_ = 'lister-item-year').text\n",
    "                years.append(year)\n",
    "\n",
    "                # Scrape the IMDB rating\n",
    "                imdb = float(container.strong.text)\n",
    "                imdb_ratings.append(imdb)\n",
    "\n",
    "                # Scrape the Metascore\n",
    "                m_score = container.find('span', class_ = 'metascore').text\n",
    "                metascores.append(int(m_score))\n",
    "\n",
    "                # Scrape the number of votes\n",
    "                vote = container.find('span', attrs = {'name':'nv'})['data-value']\n",
    "                votes.append(int(vote))\n",
    "    "
   ]
  },
  {
   "cell_type": "code",
   "execution_count": null,
   "metadata": {
    "collapsed": true
   },
   "outputs": [],
   "source": []
  }
 ],
 "metadata": {
  "kernelspec": {
   "display_name": "Python 3",
   "language": "python",
   "name": "python3"
  },
  "language_info": {
   "codemirror_mode": {
    "name": "ipython",
    "version": 3
   },
   "file_extension": ".py",
   "mimetype": "text/x-python",
   "name": "python",
   "nbconvert_exporter": "python",
   "pygments_lexer": "ipython3",
   "version": "3.6.3"
  }
 },
 "nbformat": 4,
 "nbformat_minor": 2
}
